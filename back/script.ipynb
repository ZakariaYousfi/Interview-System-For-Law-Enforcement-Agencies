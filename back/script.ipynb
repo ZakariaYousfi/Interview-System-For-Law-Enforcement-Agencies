{
 "cells": [
  {
   "cell_type": "code",
   "execution_count": 1,
   "metadata": {},
   "outputs": [],
   "source": [
    "# -*- coding: utf8 -*-\n",
    "import gensim\n",
    "import re\n",
    "import numpy as np\n",
    "from nltk import ngrams\n",
    "\n",
    "from utilities import * # import utilities.py module"
   ]
  },
  {
   "cell_type": "code",
   "execution_count": 2,
   "metadata": {},
   "outputs": [],
   "source": [
    "# ============================== \n",
    "# ====== Uni-Grams Models ======\n",
    "\n",
    "t_model = gensim.models.Word2Vec.load('./models/full_uni_cbow_300_twitter.mdl')\n",
    "\n"
   ]
  },
  {
   "cell_type": "code",
   "execution_count": 6,
   "metadata": {},
   "outputs": [
    {
     "name": "stdout",
     "output_type": "stream",
     "text": [
      "الكلمة: بابا\n",
      "وبابا 0.5907153487205505\n",
      "لبابا 0.5518536567687988\n",
      "ماما 0.5363357067108154\n",
      "ابويا 0.5347766280174255\n",
      "عمو 0.5274522304534912\n",
      "ببابا 0.509660542011261\n",
      "اخويا 0.498411625623703\n",
      "خالو 0.49707460403442383\n",
      "الباب 0.46464604139328003\n",
      "باابا 0.4605189859867096\n"
     ]
    }
   ],
   "source": [
    "# python 3.X\n",
    "token = clean_str(u'بابا').replace(\" \", \"_\")\n",
    "# python 2.7\n",
    "# token = clean_str('تونس'.decode('utf8', errors='ignore'))\n",
    "print(\"الكلمة: \" + token)\n",
    "most_similar = t_model.wv.most_similar( token, topn=10 )\n",
    "for term, score in most_similar:\n",
    "    print(term, score)\n",
    "# get a word vector\n",
    "word_vector = t_model.wv[ token ]"
   ]
  },
  {
   "cell_type": "code",
   "execution_count": 4,
   "metadata": {},
   "outputs": [
    {
     "name": "stdout",
     "output_type": "stream",
     "text": [
      "ابني\n"
     ]
    }
   ],
   "source": [
    "relations = {\n",
    "    \"ابي\" : 0,\n",
    "    \"اخي\" : 0,\n",
    "    \"ابني\" : 0,\n",
    "    \"زوجي\" : 0,\n",
    "    \"زوجتي\" : 0,\n",
    "    \"صديقي\" : 0,\n",
    "    \"صديقتي\" : 0,\n",
    "    \"ابنتي\" : 0,\n",
    "    \"خالي\" : 0,\n",
    "    \"خالتي\" : 0,\n",
    "    \"عمي\" : 0,\n",
    "    \"عمتي\" : 0,\n",
    "    \"حماتي\" : 0,\n",
    "    \"جاري\" : 0,\n",
    "    \"زميلي\" : 0,\n",
    "    \"زميلتي\" : 0,\n",
    "    \"زبوني\" : 0,\n",
    "    \"زبونتي\" : 0,\n",
    "    \"مديري\" : 0,\n",
    "}\n",
    "\n",
    "word = \"ولدي\"\n",
    "\n",
    "# print(\"1: \", t_model.wv.similarity(\"ولدي\",\"ابني\"))\n",
    "# print(\"2: \", t_model.wv.similarity(\"ولدي\",\"مديري\"))\n",
    "\n",
    "similarity_results = {}\n",
    "\n",
    "for i in relations: \n",
    "    similarity_results[i] = t_model.wv.similarity(word,i)\n",
    "\n",
    "print(max(similarity_results, key=similarity_results.get))"
   ]
  }
 ],
 "metadata": {
  "kernelspec": {
   "display_name": "Python 3",
   "language": "python",
   "name": "python3"
  },
  "language_info": {
   "codemirror_mode": {
    "name": "ipython",
    "version": 3
   },
   "file_extension": ".py",
   "mimetype": "text/x-python",
   "name": "python",
   "nbconvert_exporter": "python",
   "pygments_lexer": "ipython3",
   "version": "3.10.4"
  }
 },
 "nbformat": 4,
 "nbformat_minor": 2
}
